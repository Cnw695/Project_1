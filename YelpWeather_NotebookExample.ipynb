{
 "cells": [
  {
   "cell_type": "code",
   "execution_count": null,
   "metadata": {},
   "outputs": [],
   "source": [
    "import pandas as pd\n",
    "import json as js\n",
    "import matplotlib.pyplot as plt\n",
    "import requests\n",
    "from scipy import stats\n",
    "import csv\n",
    "\n",
    "clientid = 'bTV8F_bnMWhjazagcRNv9w'\n",
    "api_key = 'tNVSPxTZuK97fliYWToZrZpCGASCD0HlyF7s554dF_IdGdO1vAenbda05dWc6zUrsvXPE25NpvVJw1ZhohHYp-4n68rsIzrDPQAwh0lceNXGdjprDYMTAvHM_oMvXnYx "
   ]
  },
  {
   "cell_type": "code",
   "execution_count": null,
   "metadata": {},
   "outputs": [],
   "source": []
  },
  {
   "cell_type": "code",
   "execution_count": null,
   "metadata": {},
   "outputs": [],
   "source": []
  },
  {
   "cell_type": "code",
   "execution_count": null,
   "metadata": {},
   "outputs": [],
   "source": []
  },
  {
   "cell_type": "code",
   "execution_count": null,
   "metadata": {},
   "outputs": [],
   "source": []
  }
 ],
 "metadata": {
  "kernelspec": {
   "display_name": "Python 3",
   "language": "python",
   "name": "python3"
  },
  "language_info": {
   "codemirror_mode": {
    "name": "ipython",
    "version": 3
   },
   "file_extension": ".py",
   "mimetype": "text/x-python",
   "name": "python",
   "nbconvert_exporter": "python",
   "pygments_lexer": "ipython3",
   "version": "3.7.4"
  }
 },
 "nbformat": 4,
 "nbformat_minor": 2
}
